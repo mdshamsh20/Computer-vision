{
 "cells": [
  {
   "cell_type": "code",
   "execution_count": 9,
   "metadata": {},
   "outputs": [
    {
     "name": "stdout",
     "output_type": "stream",
     "text": [
      "Please make sure the picture file is in the same directory\n",
      "Please type your picture filename:3D.jpg\n",
      "(669, 973, 3)\n",
      "(60, 100, 3)\n"
     ]
    },
    {
     "data": {
      "text/plain": [
       "-1"
      ]
     },
     "execution_count": 9,
     "metadata": {},
     "output_type": "execute_result"
    }
   ],
   "source": [
    "# This program will read an image and process it for size reduction, color change etc.\n",
    "# This is written for \"COMPUTER-VISION\" learning.\n",
    "\n",
    "# Load numpy and OpenCV Libraries\n",
    "import numpy as np\n",
    "import cv2\n",
    "\n",
    "print (\"Please make sure the picture file is in the same directory\")\n",
    "filename=input(\"Please type your picture filename:\")\n",
    "\n",
    "#Read an Image from the same directory\n",
    "ak_color=cv2.imread(filename)\n",
    "\n",
    "# Show the Image on Screen\n",
    "cv2.imshow('image',ak_color)\n",
    "\n",
    "# Wait till next \n",
    "cv2.waitKey(0)\n",
    "\n",
    "# SHow the SIZE of the Image\n",
    "AK= np.array (ak_color)\n",
    "print (ak_color.shape)\n",
    "\n",
    "# Show the Data of the FILE representing the IMAGE\n",
    "cv2.imshow (\"Basic Image\",ak_color)\n",
    "\n",
    "# Image Enhancement/ Mixing\n",
    "Line= AK[400,200]\n",
    "NEWAK=AK+Line\n",
    "cv2.imshow (\"Line Printed\", NEWAK)\n",
    "cv2.waitKey(0)\n",
    "\n",
    "# Change the SIZE of the Resized Image and show the Resized Image along with its NEW SIZE\n",
    "new_dim=(100,60)\n",
    "ak_resized=cv2.resize(ak_color,new_dim,0)\n",
    "cv2.imshow('Resized Image',ak_resized)\n",
    "cv2.waitKey(0)\n",
    "print (ak_resized.shape)\n",
    "\n",
    "# Change the COLOR of the Resized Image and show the same\n",
    "ak_bandw=cv2.cvtColor(ak_resized, cv2.COLOR_BGR2GRAY)\n",
    "cv2.imshow('Black and White Image', ak_bandw)\n",
    "cv2.waitKey(0)\n",
    "\n",
    "\n"
   ]
  },
  {
   "cell_type": "code",
   "execution_count": 14,
   "metadata": {},
   "outputs": [
    {
     "data": {
      "text/plain": [
       "-1"
      ]
     },
     "execution_count": 14,
     "metadata": {},
     "output_type": "execute_result"
    }
   ],
   "source": [
    "# Image Enhancement/ Mixing\n",
    "cv2.imshow(\"Origonal Picture\", NEWAK)\n",
    "cv2.waitKey(0)\n",
    "Line= AK[500,400]\n",
    "NEWAK=AK+Line\n",
    "cv2.imshow (\"Enhanced or Mixed Image\", NEWAK)\n",
    "cv2.waitKey(0)"
   ]
  },
  {
   "cell_type": "code",
   "execution_count": null,
   "metadata": {},
   "outputs": [],
   "source": []
  },
  {
   "cell_type": "code",
   "execution_count": null,
   "metadata": {},
   "outputs": [],
   "source": []
  },
  {
   "cell_type": "code",
   "execution_count": null,
   "metadata": {},
   "outputs": [],
   "source": []
  }
 ],
 "metadata": {
  "kernelspec": {
   "display_name": "Python 3",
   "language": "python",
   "name": "python3"
  },
  "language_info": {
   "codemirror_mode": {
    "name": "ipython",
    "version": 3
   },
   "file_extension": ".py",
   "mimetype": "text/x-python",
   "name": "python",
   "nbconvert_exporter": "python",
   "pygments_lexer": "ipython3",
   "version": "3.8.5"
  }
 },
 "nbformat": 4,
 "nbformat_minor": 4
}
